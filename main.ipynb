{
 "cells": [
  {
   "cell_type": "markdown",
   "metadata": {},
   "source": [
    "![alt text](dw.png)"
   ]
  },
  {
   "cell_type": "code",
   "execution_count": 1,
   "metadata": {},
   "outputs": [],
   "source": [
    "import torch \n",
    "import matplotlib.pyplot as plt\n",
    "from torch import nn\n"
   ]
  },
  {
   "cell_type": "code",
   "execution_count": 2,
   "metadata": {},
   "outputs": [],
   "source": [
    "class depthWiseConvs(nn.Module):\n",
    "    def __init__(self,inChannels,outChannels,stride):\n",
    "        super().__init__()\n",
    "        self.conv = nn.Sequential(\n",
    "                    nn.Conv2d(inChannels,inChannels,\n",
    "                                kernel_size=(3),\n",
    "                                stride=stride,\n",
    "                                padding=1,\n",
    "                                groups=inChannels,\n",
    "                                bias=False\n",
    "                                ),\n",
    "                                \n",
    "                    nn.BatchNorm2d(inChannels),\n",
    "                    nn.ReLU() )\n",
    "                \n",
    "    def forward(self, x):\n",
    "        return self.conv(x)\n"
   ]
  },
  {
   "cell_type": "code",
   "execution_count": 3,
   "metadata": {},
   "outputs": [],
   "source": [
    "class pointWiseConvs(nn.Module):\n",
    "    def __init__(self,inChannels,outChannels):\n",
    "        super().__init__()\n",
    "        self.conv = nn.Sequential(\n",
    "            nn.Conv2d(inChannels,outChannels,kernel_size=(1),stride=1,bias=False),\n",
    "            nn.BatchNorm2d(outChannels),\n",
    "            nn.ReLU()\n",
    "        ) \n",
    "\n",
    "    def forward(self, x : torch.Tensor):\n",
    "        return self.conv(x)\n"
   ]
  },
  {
   "cell_type": "code",
   "execution_count": 4,
   "metadata": {},
   "outputs": [],
   "source": [
    "class depthWiseSeperableConvs(nn.Module):\n",
    "    def __init__(self,inChannels,outChannels,stride):\n",
    "        super().__init__()\n",
    "        self.depthWise = depthWiseConvs(inChannels,outChannels,stride)\n",
    "        self.pointWise = pointWiseConvs(inChannels,outChannels)\n",
    "    def forward(self,x):\n",
    "        out = self.depthWise(x)\n",
    "        out1 = self.pointWise(out)\n",
    "        return out1\n",
    "\n"
   ]
  },
  {
   "cell_type": "code",
   "execution_count": 5,
   "metadata": {},
   "outputs": [],
   "source": [
    "class mobileNet(nn.Module):\n",
    "    def __init__(self, numClasses=1000,):\n",
    "        super().__init__()\n",
    "        self.model = nn.Sequential(\n",
    "\n",
    "            nn.Conv2d(in_channels=3,\n",
    "                        out_channels=32,\n",
    "                        kernel_size=3,\n",
    "                        stride=2,\n",
    "                        bias=True),\n",
    "\n",
    "            nn.ReLU(inplace=True),\n",
    "\n",
    "            depthWiseSeperableConvs(32,64,1),\n",
    "            depthWiseSeperableConvs(64,128,2),\n",
    "            depthWiseSeperableConvs(128,128,1),\n",
    "            depthWiseSeperableConvs(128,256,2),\n",
    "            depthWiseSeperableConvs(256,256,1),\n",
    "            depthWiseSeperableConvs(256,512,2),\n",
    "\n",
    "            depthWiseSeperableConvs(512,512,1),\n",
    "            depthWiseSeperableConvs(512,512,1),\n",
    "            depthWiseSeperableConvs(512,512,1),\n",
    "            depthWiseSeperableConvs(512,512,1),\n",
    "            depthWiseSeperableConvs(512,512,1),\n",
    "            \n",
    "            depthWiseSeperableConvs(512,1024,2),\n",
    "            depthWiseSeperableConvs(1024,1024,1),\n",
    "\n",
    "            nn.AdaptiveAvgPool2d(1),\n",
    "        )\n",
    "\n",
    "        self.fc = nn.Linear(1024,numClasses)\n",
    "\n",
    "        self.softmax = nn.Softmax(dim=1)\n",
    "\n",
    "    def forward(self, x : torch.Tensor):\n",
    "        x1 = self.model(x)\n",
    "        x2 = x1.reshape(x1.size(0),-1)\n",
    "        x3 = self.fc(x2)\n",
    "        x4 = self.softmax(x3)\n",
    "        return x4\n"
   ]
  },
  {
   "cell_type": "code",
   "execution_count": 6,
   "metadata": {},
   "outputs": [],
   "source": [
    "model  = mobileNet(2)\n"
   ]
  },
  {
   "cell_type": "code",
   "execution_count": 7,
   "metadata": {},
   "outputs": [
    {
     "data": {
      "text/plain": [
       "torch.Size([1, 2])"
      ]
     },
     "execution_count": 7,
     "metadata": {},
     "output_type": "execute_result"
    }
   ],
   "source": [
    "img = torch.randn(1,3,224,224)\n",
    "\n",
    "model(img).shape\n"
   ]
  },
  {
   "cell_type": "code",
   "execution_count": 8,
   "metadata": {},
   "outputs": [
    {
     "name": "stdout",
     "output_type": "stream",
     "text": [
      "the no of trainable params : 3208994\n"
     ]
    }
   ],
   "source": [
    "num_parms = sum(p.numel() for p in model.parameters() if p.requires_grad)\n",
    "print(f'the no of trainable params : {num_parms}')\n"
   ]
  },
  {
   "cell_type": "markdown",
   "metadata": {},
   "source": [
    "# test and train data "
   ]
  }
 ],
 "metadata": {
  "kernelspec": {
   "display_name": "computerVision",
   "language": "python",
   "name": "python3"
  },
  "language_info": {
   "codemirror_mode": {
    "name": "ipython",
    "version": 3
   },
   "file_extension": ".py",
   "mimetype": "text/x-python",
   "name": "python",
   "nbconvert_exporter": "python",
   "pygments_lexer": "ipython3",
   "version": "3.9.19"
  }
 },
 "nbformat": 4,
 "nbformat_minor": 2
}
